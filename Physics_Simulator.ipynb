{
 "cells": [
  {
   "cell_type": "code",
   "execution_count": 4,
   "id": "28a59583",
   "metadata": {},
   "outputs": [
    {
     "name": "stdout",
     "output_type": "stream",
     "text": [
      "done\n"
     ]
    }
   ],
   "source": [
    "from ipycanvas import MultiCanvas, hold_canvas\n",
    "from time import sleep\n",
    "import math\n",
    "print(\"done\")"
   ]
  },
  {
   "cell_type": "code",
   "execution_count": 13,
   "id": "8ad7b467",
   "metadata": {},
   "outputs": [],
   "source": [
    "class Ball:\n",
    "    def __init__(self, xpos, ypos, radius, xvel, yvel, xaccel, yaccel, mass):\n",
    "        self.x = xpos\n",
    "        self.y = ypos\n",
    "        self.radius = radius\n",
    "        self.xvel = xvel\n",
    "        self.yvel = yvel\n",
    "        self.xaccel = xaccel\n",
    "        self.yaccel = yaccel\n",
    "        self.mass = mass\n",
    "    def edgecollision(self, canvas_size_x, canvas_size_y):\n",
    "        if(self.x + self.xvel > canvas_size_x - self.radius):\n",
    "            self.xvel = -self.xvel\n",
    "            self.x = canvas_size_x - self.radius - (self.x-self.xvel-canvas_size_x + self.radius)\n",
    "        elif(self.x + self.xvel < self.radius):\n",
    "            self.xvel = -self.xvel\n",
    "            self.x = self.radius + (self.x - self.xvel - self.radius)\n",
    "        else:\n",
    "            self.x = self.x + self.xvel\n",
    "        if(self.y + self.yvel > canvas_size_y - self.radius):\n",
    "            self.yvel = -self.yvel\n",
    "            self.y = canvas_size_y - self.radius - (self.y-self.yvel-canvas_size_y + self.radius)\n",
    "        elif(self.y + self.yvel < self.radius):\n",
    "            self.yvel = -self.yvel\n",
    "            self.y = self.radius + (self.y - self.yvel - self.radius)\n",
    "        else:\n",
    "            self.y = self.y + self.yvel\n",
    "    def updatePos(self, x_size, y_size):\n",
    "        self.edgecollision(x_size, y_size)\n",
    "        self.xvel = self.xvel + self.xaccel\n",
    "        self.yvel = self.yvel + self.yaccel\n",
    "    def resetGrav(self):\n",
    "        self.xaccel = 0\n",
    "        self.yaccel = 0\n",
    "    def updateGrav(self, ball1):\n",
    "        gravlength = 100 * ball1.mass/((ball1.x - self.x)*(ball1.x - self.x) + (ball1.y - self.y)*(ball1.y - self.y))\n",
    "        xpart = gravlength * ((ball1.x - self.x)/math.sqrt((ball1.x - self.x)*(ball1.x - self.x) + (ball1.y - self.y)*(ball1.y - self.y)))\n",
    "        ypart = gravlength * ((ball1.y - self.y)/math.sqrt((ball1.x - self.x)*(ball1.x - self.x) + (ball1.y - self.y)*(ball1.y - self.y)))\n",
    "        self.xaccel = self.xaccel + xpart\n",
    "        self.yaccel = self.yaccel + ypart\n",
    "    def updateGravTotal(self, *args):\n",
    "        self.resetGrav()\n",
    "        for x in args:\n",
    "            self.updateGrav(x)"
   ]
  },
  {
   "cell_type": "code",
   "execution_count": 18,
   "id": "b5100e1f",
   "metadata": {},
   "outputs": [
    {
     "data": {
      "application/vnd.jupyter.widget-view+json": {
       "model_id": "4b4f4e79b94e4e6bb86a10db6003480a",
       "version_major": 2,
       "version_minor": 0
      },
      "text/plain": [
       "MultiCanvas(height=200, width=200)"
      ]
     },
     "metadata": {},
     "output_type": "display_data"
    },
    {
     "ename": "KeyboardInterrupt",
     "evalue": "",
     "output_type": "error",
     "traceback": [
      "\u001b[1;31m---------------------------------------------------------------------------\u001b[0m",
      "\u001b[1;31mKeyboardInterrupt\u001b[0m                         Traceback (most recent call last)",
      "\u001b[1;32m<ipython-input-18-8a352453a70c>\u001b[0m in \u001b[0;36m<module>\u001b[1;34m\u001b[0m\n\u001b[0;32m     22\u001b[0m         \u001b[0mcanvas\u001b[0m\u001b[1;33m[\u001b[0m\u001b[1;36m1\u001b[0m\u001b[1;33m]\u001b[0m\u001b[1;33m.\u001b[0m\u001b[0mfill_style\u001b[0m \u001b[1;33m=\u001b[0m \u001b[1;34m'#FF00FF'\u001b[0m\u001b[1;33m\u001b[0m\u001b[1;33m\u001b[0m\u001b[0m\n\u001b[0;32m     23\u001b[0m         \u001b[0mcanvas\u001b[0m\u001b[1;33m[\u001b[0m\u001b[1;36m1\u001b[0m\u001b[1;33m]\u001b[0m\u001b[1;33m.\u001b[0m\u001b[0mfill_circle\u001b[0m\u001b[1;33m(\u001b[0m\u001b[0mball3\u001b[0m\u001b[1;33m.\u001b[0m\u001b[0mx\u001b[0m\u001b[1;33m,\u001b[0m \u001b[0mball3\u001b[0m\u001b[1;33m.\u001b[0m\u001b[0my\u001b[0m\u001b[1;33m,\u001b[0m \u001b[0mball3\u001b[0m\u001b[1;33m.\u001b[0m\u001b[0mradius\u001b[0m\u001b[1;33m)\u001b[0m\u001b[1;33m\u001b[0m\u001b[1;33m\u001b[0m\u001b[0m\n\u001b[1;32m---> 24\u001b[1;33m     \u001b[0msleep\u001b[0m\u001b[1;33m(\u001b[0m\u001b[1;36m0.01\u001b[0m\u001b[1;33m)\u001b[0m\u001b[1;33m\u001b[0m\u001b[1;33m\u001b[0m\u001b[0m\n\u001b[0m\u001b[0;32m     25\u001b[0m \u001b[1;33m\u001b[0m\u001b[0m\n",
      "\u001b[1;31mKeyboardInterrupt\u001b[0m: "
     ]
    }
   ],
   "source": [
    "canvas = MultiCanvas(2, width=200, height=200)\n",
    "display(canvas)\n",
    "canvas_size_x = 200\n",
    "canvas_size_y = 200\n",
    "canvas[0].fill_rect(0,0,canvas_size_x,canvas_size_y)\n",
    "ball = Ball(xpos=100,ypos=15,radius=10,xvel=2,yvel=2,xaccel=0,yaccel=0, mass=1)\n",
    "ball2 = Ball(xpos=100,ypos=140,radius=10,xvel=-2,yvel=0,xaccel=0,yaccel=0, mass=1)\n",
    "ball3 = Ball(xpos=100,ypos=80,radius=10,xvel=7,yvel=-3,xaccel=0,yaccel=0, mass=2)\n",
    "while (True):\n",
    "    with hold_canvas(canvas):\n",
    "        canvas[1].clear()\n",
    "        ball.updateGravTotal(ball2, ball3)\n",
    "        ball2.updateGravTotal(ball, ball3)\n",
    "        ball3.updateGravTotal(ball, ball2)\n",
    "        ball.updatePos(canvas_size_x, canvas_size_y)\n",
    "        ball2.updatePos(canvas_size_x, canvas_size_y)\n",
    "        ball3.updatePos(canvas_size_x, canvas_size_y)\n",
    "        canvas[1].fill_style = '#00FFFF'\n",
    "        canvas[1].fill_circle(ball.x, ball.y, ball.radius)\n",
    "        canvas[1].fill_style = '#FFFF00'\n",
    "        canvas[1].fill_circle(ball2.x, ball2.y, ball2.radius)\n",
    "        canvas[1].fill_style = '#FF00FF'\n",
    "        canvas[1].fill_circle(ball3.x, ball3.y, ball3.radius)\n",
    "    sleep(0.01)\n",
    "    "
   ]
  },
  {
   "cell_type": "code",
   "execution_count": null,
   "id": "726cb9ed",
   "metadata": {},
   "outputs": [],
   "source": []
  }
 ],
 "metadata": {
  "kernelspec": {
   "display_name": "Python 3",
   "language": "python",
   "name": "python3"
  },
  "language_info": {
   "codemirror_mode": {
    "name": "ipython",
    "version": 3
   },
   "file_extension": ".py",
   "mimetype": "text/x-python",
   "name": "python",
   "nbconvert_exporter": "python",
   "pygments_lexer": "ipython3",
   "version": "3.8.8"
  }
 },
 "nbformat": 4,
 "nbformat_minor": 5
}
